{
 "cells": [
  {
   "cell_type": "code",
   "execution_count": 153,
   "metadata": {},
   "outputs": [],
   "source": [
    "INPUT_DIR=\"../input\"\n",
    "WORKING_DIR=\"../working\""
   ]
  },
  {
   "cell_type": "code",
   "execution_count": 154,
   "metadata": {},
   "outputs": [
    {
     "name": "stdout",
     "output_type": "stream",
     "text": [
      "../input\\titanic\\gender_submission.csv\n",
      "../input\\titanic\\test.csv\n",
      "../input\\titanic\\train.csv\n"
     ]
    }
   ],
   "source": [
    "# This Python 3 environment comes with many helpful analytics libraries installed\n",
    "# It is defined by the kaggle/python Docker image: https://github.com/kaggle/docker-python\n",
    "# For example, here's several helpful packages to load\n",
    "\n",
    "import numpy as np # linear algebra\n",
    "import pandas as pd # data processing, CSV file I/O (e.g. pd.read_csv)\n",
    "\n",
    "# Input data files are available in the read-only \"../input/\" directory\n",
    "# For example, running this (by clicking run or pressing Shift+Enter) will list all files under the input directory\n",
    "\n",
    "import os\n",
    "for dirname, _, filenames in os.walk(INPUT_DIR):\n",
    "    for filename in filenames:\n",
    "        print(os.path.join(dirname, filename))\n",
    "\n",
    "# You can write up to 20GB to the current directory (/kaggle/working/) that gets preserved as output when you create a version using \"Save & Run All\" \n",
    "# You can also write temporary files to /kaggle/temp/, but they won't be saved outside of the current session"
   ]
  },
  {
   "cell_type": "markdown",
   "metadata": {},
   "source": [
    "Based on Features from each passenger (Age, PClass, ...), we want to make a binary classification of the Label Survived.\n",
    "\n",
    "scikit-learn contains following Classification Models that can be used:\n",
    "- Logistic Regression (sklearn.linear_model.LogisticRegression)\n",
    "- K-Nearest Neighbors (sklearn.neighbors.KNeighborsClassifier)\n",
    "- Support Vector Machines (sklearn.svm.SVC)\n",
    "- Decision Trees (sklearn.tree.DecisionTreeClassifier)\n",
    "- Random Forest (sklearn.ensemble.RandomForestClassifier)\n",
    "- Naive Bayes (sklearn.naive_bayes.GaussianNB)\n",
    "- Gradient Boosting (sklearn.ensemble.GradientBoostingClassifier)\n",
    "- Neural Networks (sklearn.neural_network.MLPClassifier)"
   ]
  },
  {
   "cell_type": "code",
   "execution_count": 155,
   "metadata": {},
   "outputs": [],
   "source": [
    "import matplotlib.pyplot as plt\n",
    "\n",
    "from sklearn.pipeline import Pipeline\n",
    "from sklearn.preprocessing import StandardScaler\n",
    "from sklearn.model_selection import GridSearchCV\n",
    "\n",
    "# All binary classification models that we can use.\n",
    "from sklearn.linear_model import LogisticRegression\n",
    "from sklearn.neighbors import KNeighborsClassifier\n",
    "from sklearn.svm import SVC\n",
    "from sklearn.tree import DecisionTreeClassifier\n",
    "from sklearn.ensemble import RandomForestClassifier\n",
    "from sklearn.ensemble import GradientBoostingClassifier\n",
    "from sklearn.naive_bayes import GaussianNB\n",
    "from sklearn.neural_network import MLPClassifier"
   ]
  },
  {
   "cell_type": "code",
   "execution_count": 156,
   "metadata": {},
   "outputs": [],
   "source": [
    "def empty_value_stats(df):\n",
    "    \"\"\" Returns a dictionary with for each column having N/A values the count of the N/A cells\"\"\"\n",
    "    na_values_count = df.isna().sum()\n",
    "    return na_values_count[na_values_count > 0].to_dict()\n",
    "\n",
    "\n",
    "def categorize_age(df):\n",
    "    \"\"\" Modifies the passed dataframe by replacing the column Age by \"Age_\" columns for each age group\"\"\"\n",
    "    df[\"Age_00_10\"] = df.Age.apply(lambda age : 1 if      age <= 10 else 0)\n",
    "    df[\"Age_10_20\"] = df.Age.apply(lambda age : 1 if 10 < age <= 20 else 0)\n",
    "    df[\"Age_20_30\"] = df.Age.apply(lambda age : 1 if 20 < age <= 30 else 0)\n",
    "    df[\"Age_30_40\"] = df.Age.apply(lambda age : 1 if 30 < age <= 40 else 0)\n",
    "    df[\"Age_40_50\"] = df.Age.apply(lambda age : 1 if 40 < age <= 50 else 0)\n",
    "    df[\"Age_50_60\"] = df.Age.apply(lambda age : 1 if 50 < age <= 60 else 0)\n",
    "    df[\"Age_60_70\"] = df.Age.apply(lambda age : 1 if 60 < age <= 70 else 0)\n",
    "    df[\"Age_70_PP\"] = df.Age.apply(lambda age : 1 if 70 < age       else 0)\n",
    "    df[\"Age_XX_XX\"] = df.Age.apply(lambda age : 1 if np.isnan(age)  else 0)\n",
    "    df.drop(columns=[\"Age\"], inplace=True)\n"
   ]
  },
  {
   "cell_type": "markdown",
   "metadata": {},
   "source": [
    "## 1. Data exploration & wrangling"
   ]
  },
  {
   "cell_type": "code",
   "execution_count": 157,
   "metadata": {},
   "outputs": [],
   "source": [
    "# Load the training and test data\n",
    "train_data = pd.read_csv(INPUT_DIR + '/titanic/train.csv')\n",
    "test_data = pd.read_csv(INPUT_DIR + '/titanic/test.csv')"
   ]
  },
  {
   "cell_type": "code",
   "execution_count": 158,
   "metadata": {},
   "outputs": [
    {
     "name": "stdout",
     "output_type": "stream",
     "text": [
      "Number of training data records : 891\n"
     ]
    }
   ],
   "source": [
    "# Count number of records\n",
    "print(f\"Number of training data records : {len(train_data)}\")"
   ]
  },
  {
   "cell_type": "code",
   "execution_count": 159,
   "metadata": {},
   "outputs": [],
   "source": [
    "# One-Hot encode Features 'Pclass', 'Sex', 'Embarked'\n",
    "COLUMNS_TO_ONE_HOT_ENCODE = [\"Pclass\", \"Sex\", \"Embarked\"]\n",
    "train_data = pd.get_dummies(train_data, columns=COLUMNS_TO_ONE_HOT_ENCODE)\n",
    "test_data = pd.get_dummies(test_data, columns=COLUMNS_TO_ONE_HOT_ENCODE)"
   ]
  },
  {
   "cell_type": "code",
   "execution_count": 160,
   "metadata": {},
   "outputs": [
    {
     "data": {
      "text/plain": [
       "PassengerId      int64\n",
       "Survived         int64\n",
       "Name            object\n",
       "Age            float64\n",
       "SibSp            int64\n",
       "Parch            int64\n",
       "Ticket          object\n",
       "Fare           float64\n",
       "Cabin           object\n",
       "Pclass_1          bool\n",
       "Pclass_2          bool\n",
       "Pclass_3          bool\n",
       "Sex_female        bool\n",
       "Sex_male          bool\n",
       "Embarked_C        bool\n",
       "Embarked_Q        bool\n",
       "Embarked_S        bool\n",
       "dtype: object"
      ]
     },
     "execution_count": 160,
     "metadata": {},
     "output_type": "execute_result"
    }
   ],
   "source": [
    "# Check the data types\n",
    "train_data.dtypes"
   ]
  },
  {
   "cell_type": "code",
   "execution_count": 161,
   "metadata": {},
   "outputs": [
    {
     "data": {
      "text/plain": [
       "PassengerId   -0.005007\n",
       "Survived       1.000000\n",
       "Age           -0.077221\n",
       "SibSp         -0.035322\n",
       "Parch          0.081629\n",
       "Fare           0.257307\n",
       "Pclass_1       0.285904\n",
       "Pclass_2       0.093349\n",
       "Pclass_3      -0.322308\n",
       "Sex_female     0.543351\n",
       "Sex_male      -0.543351\n",
       "Embarked_C     0.168240\n",
       "Embarked_Q     0.003650\n",
       "Embarked_S    -0.155660\n",
       "Name: Survived, dtype: float64"
      ]
     },
     "execution_count": 161,
     "metadata": {},
     "output_type": "execute_result"
    }
   ],
   "source": [
    "# Check correlation values of all non-object Features on the Target.\n",
    "train_data.select_dtypes(exclude=['object']).corr()['Survived']"
   ]
  },
  {
   "cell_type": "markdown",
   "metadata": {},
   "source": [
    "From above it seems some Features have a stronger correlation with the survival rate:\n",
    "\n",
    "1. Sex      : higher chance of survival for females and lower for males.\n",
    "2. Pclass   : higher chance of survival for 1st class and lower for 3rd class.\n",
    "3. Embarked : higher chance of survival if embarked in Cherbourg and lower if in Southampton.\n",
    "4. Fare     : higher chance of survival if paid fare was higher.\n",
    "\n",
    "There is also a correlation between the features Pclass and Fare which is logical because you pay more for a higher class ticket:"
   ]
  },
  {
   "cell_type": "code",
   "execution_count": 162,
   "metadata": {},
   "outputs": [
    {
     "data": {
      "text/plain": [
       "Pclass_1    0.591711\n",
       "Pclass_2   -0.118557\n",
       "Pclass_3   -0.413333\n",
       "Fare        1.000000\n",
       "Name: Fare, dtype: float64"
      ]
     },
     "execution_count": 162,
     "metadata": {},
     "output_type": "execute_result"
    }
   ],
   "source": [
    "train_data[['Pclass_1', 'Pclass_2', 'Pclass_3', 'Fare']].corr()['Fare']"
   ]
  },
  {
   "cell_type": "code",
   "execution_count": 163,
   "metadata": {},
   "outputs": [
    {
     "data": {
      "text/html": [
       "<div>\n",
       "<style scoped>\n",
       "    .dataframe tbody tr th:only-of-type {\n",
       "        vertical-align: middle;\n",
       "    }\n",
       "\n",
       "    .dataframe tbody tr th {\n",
       "        vertical-align: top;\n",
       "    }\n",
       "\n",
       "    .dataframe thead th {\n",
       "        text-align: right;\n",
       "    }\n",
       "</style>\n",
       "<table border=\"1\" class=\"dataframe\">\n",
       "  <thead>\n",
       "    <tr style=\"text-align: right;\">\n",
       "      <th></th>\n",
       "      <th>Survived</th>\n",
       "      <th>Age</th>\n",
       "      <th>SibSp</th>\n",
       "      <th>Parch</th>\n",
       "      <th>Fare</th>\n",
       "    </tr>\n",
       "  </thead>\n",
       "  <tbody>\n",
       "    <tr>\n",
       "      <th>count</th>\n",
       "      <td>891.000000</td>\n",
       "      <td>714.000000</td>\n",
       "      <td>891.000000</td>\n",
       "      <td>891.000000</td>\n",
       "      <td>891.000000</td>\n",
       "    </tr>\n",
       "    <tr>\n",
       "      <th>mean</th>\n",
       "      <td>0.383838</td>\n",
       "      <td>29.699118</td>\n",
       "      <td>0.523008</td>\n",
       "      <td>0.381594</td>\n",
       "      <td>32.204208</td>\n",
       "    </tr>\n",
       "    <tr>\n",
       "      <th>std</th>\n",
       "      <td>0.486592</td>\n",
       "      <td>14.526497</td>\n",
       "      <td>1.102743</td>\n",
       "      <td>0.806057</td>\n",
       "      <td>49.693429</td>\n",
       "    </tr>\n",
       "    <tr>\n",
       "      <th>min</th>\n",
       "      <td>0.000000</td>\n",
       "      <td>0.420000</td>\n",
       "      <td>0.000000</td>\n",
       "      <td>0.000000</td>\n",
       "      <td>0.000000</td>\n",
       "    </tr>\n",
       "    <tr>\n",
       "      <th>25%</th>\n",
       "      <td>0.000000</td>\n",
       "      <td>20.125000</td>\n",
       "      <td>0.000000</td>\n",
       "      <td>0.000000</td>\n",
       "      <td>7.910400</td>\n",
       "    </tr>\n",
       "    <tr>\n",
       "      <th>50%</th>\n",
       "      <td>0.000000</td>\n",
       "      <td>28.000000</td>\n",
       "      <td>0.000000</td>\n",
       "      <td>0.000000</td>\n",
       "      <td>14.454200</td>\n",
       "    </tr>\n",
       "    <tr>\n",
       "      <th>75%</th>\n",
       "      <td>1.000000</td>\n",
       "      <td>38.000000</td>\n",
       "      <td>1.000000</td>\n",
       "      <td>0.000000</td>\n",
       "      <td>31.000000</td>\n",
       "    </tr>\n",
       "    <tr>\n",
       "      <th>max</th>\n",
       "      <td>1.000000</td>\n",
       "      <td>80.000000</td>\n",
       "      <td>8.000000</td>\n",
       "      <td>6.000000</td>\n",
       "      <td>512.329200</td>\n",
       "    </tr>\n",
       "  </tbody>\n",
       "</table>\n",
       "</div>"
      ],
      "text/plain": [
       "         Survived         Age       SibSp       Parch        Fare\n",
       "count  891.000000  714.000000  891.000000  891.000000  891.000000\n",
       "mean     0.383838   29.699118    0.523008    0.381594   32.204208\n",
       "std      0.486592   14.526497    1.102743    0.806057   49.693429\n",
       "min      0.000000    0.420000    0.000000    0.000000    0.000000\n",
       "25%      0.000000   20.125000    0.000000    0.000000    7.910400\n",
       "50%      0.000000   28.000000    0.000000    0.000000   14.454200\n",
       "75%      1.000000   38.000000    1.000000    0.000000   31.000000\n",
       "max      1.000000   80.000000    8.000000    6.000000  512.329200"
      ]
     },
     "execution_count": 163,
     "metadata": {},
     "output_type": "execute_result"
    }
   ],
   "source": [
    "# Check general statistics of the training data e.g. to make sure we don't have outliers or other anonomalies that might need correction.\n",
    "train_data.drop(columns=[\"PassengerId\"]).describe()"
   ]
  },
  {
   "cell_type": "code",
   "execution_count": 164,
   "metadata": {},
   "outputs": [
    {
     "data": {
      "text/plain": [
       "<Axes: >"
      ]
     },
     "execution_count": 164,
     "metadata": {},
     "output_type": "execute_result"
    },
    {
     "data": {
      "image/png": "[encoded data removed]",
      "text/plain": [
       "<Figure size 640x480 with 4 Axes>"
      ]
     },
     "metadata": {},
     "output_type": "display_data"
    }
   ],
   "source": [
    "# Let's check the boxplots as well:\n",
    "fig, axs = plt.subplots(2, 2)\n",
    "\n",
    "train_data.Age.plot(kind=\"box\", ax=axs[0,0])\n",
    "train_data.SibSp.plot(kind=\"box\", ax=axs[0,1])\n",
    "train_data.Parch.plot(kind=\"box\", ax=axs[1,0])\n",
    "train_data.Fare.plot(kind=\"box\", ax=axs[1,1])"
   ]
  },
  {
   "cell_type": "markdown",
   "metadata": {},
   "source": [
    "There are outliers but they don't seem to be anomalies requiring correction. The very high Fares can be explained by the fact that  some people reserved multiple cabins for themselves."
   ]
  },
  {
   "cell_type": "code",
   "execution_count": null,
   "metadata": {},
   "outputs": [
    {
     "name": "stdout",
     "output_type": "stream",
     "text": [
      "BEFORE - Empty value stats: [X_train] : {'Age': 177} / [X_test] : {'Age': 86, 'Fare': 1}\n",
      "Training data Age Groups after categorization\n",
      "Age_00_10     64\n",
      "Age_10_20    115\n",
      "Age_20_30    230\n",
      "Age_30_40    155\n",
      "Age_40_50     86\n",
      "Age_50_60     42\n",
      "Age_60_70     17\n",
      "Age_70_PP      5\n",
      "Age_XX_XX    177\n",
      "dtype: int64\n",
      "Test data Age Groups after categorization\n",
      "Age_00_10     22\n",
      "Age_10_20     47\n",
      "Age_20_30    131\n",
      "Age_30_40     55\n",
      "Age_40_50     46\n",
      "Age_50_60     20\n",
      "Age_60_70     10\n",
      "Age_70_PP      1\n",
      "Age_XX_XX     86\n",
      "dtype: int64\n",
      "AFTER - Empty value stats: [X_train] : {} / [X_test] : {}\n"
     ]
    },
    {
     "data": {
      "image/png": "[encoded data removed]",
      "text/plain": [
       "<Figure size 640x480 with 1 Axes>"
      ]
     },
     "metadata": {},
     "output_type": "display_data"
    }
   ],
   "source": [
    "# Some common preparation needed for using the classifier models.\n",
    "\n",
    "# Remove from Features :\n",
    "# - object columns Name, Ticket, Cabin (for sake of simplicity in 1st iteration of model we will ignore these)\n",
    "# - PassengerId (primary key not useful for modeling)\n",
    "# - Survived (value to be predicted)\n",
    "X_train = train_data.drop(columns=[\"Name\", \"Ticket\", \"Cabin\", \"PassengerId\", \"Survived\"])\n",
    "X_test  = test_data.drop(columns=[\"Name\", \"Ticket\", \"Cabin\", \"PassengerId\"])\n",
    "Y_train = train_data.Survived\n",
    "\n",
    "# For many training and test data, the Feature Age (and also 1 Fare) is missing.\n",
    "print(f\"BEFORE - Empty value stats: [X_train] : {empty_value_stats(X_train)} / [X_test] : {empty_value_stats(X_test)}\")\n",
    "\n",
    "# Most classification models are not able to be trained with data containing missing values. Possible strategies to handle this:\n",
    "# 1) Replace missing values by mean, median or nearest neighbour.\n",
    "# 2) Remove records with missing values.\n",
    "# 3) Only evaluate the 2 models (Decision Tree and Random Forest) of the 8 that can handle missing values.\n",
    "# 4) Replace the Feature with missing values by groups or bins and add a specific group for the missing values.\n",
    "\n",
    "# About 20% of the training data have no Age:\n",
    "# - Applying 1) would probably add bias in the Age (20% of the Age will be aligned with the trend of the remaining 80%).\n",
    "# - Applying 2) would remove a large part of the training data (about 20%).\n",
    "# - Applying 3) would limit ourselves to only be able to evaluate 2 out of the 8 binary classification models.\n",
    "# - Applying 4) seems the best way to go. Also we may assume that the age group (0-10, 10-20, ...) is more important to predict survival then the exact age.\n",
    "\n",
    "categorize_age(X_train)\n",
    "categorize_age(X_test)\n",
    "\n",
    "train_age_group_stats = X_train.filter(like='Age_').sum()\n",
    "test_age_group_stats = X_test.filter(like='Age_').sum()\n",
    "\n",
    "print(\"Training data Age Groups after categorization\")\n",
    "print(train_age_group_stats)\n",
    "\n",
    "print(\"Test data Age Groups after categorization\")\n",
    "print(test_age_group_stats)\n",
    "\n",
    "assert len(X_train) == train_age_group_stats.sum(), \\\n",
    "    f\"Mismatch data records ({len(X_train)}) and age group count ({train_age_group_stats.sum()})\"\n",
    "\n",
    "assert len(X_test) == test_age_group_stats.sum(), \\\n",
    "    f\"Mismatch test data records ({len(X_test)}) and age group count ({test_age_group_stats.sum()})\"\n",
    "\n",
    "# Replace the single missing Fare by the median (median and not mean because the distribution is skewed to the bottom)\n",
    "X_test['Fare'].plot(kind = \"hist\")\n",
    "\n",
    "X_test = X_test\\\n",
    "    .replace(to_replace={\"Fare\" : np.nan}, value=X_test.Fare.median())\n",
    "\n",
    "# For many training and test data, the Feature Age (and also 1 Fare) is missing.\n",
    "print(f\"AFTER - Empty value stats: [X_train] : {empty_value_stats(X_train)} / [X_test] : {empty_value_stats(X_test)}\")"
   ]
  },
  {
   "cell_type": "markdown",
   "metadata": {},
   "source": [
    "## 2. Chosing the model"
   ]
  },
  {
   "cell_type": "code",
   "execution_count": null,
   "metadata": {},
   "outputs": [
    {
     "name": "stdout",
     "output_type": "stream",
     "text": [
      "===> Best score = 0.82045069361622 with params = {'classifier': GradientBoostingClassifier(), 'classifier__criterion': 'friedman_mse'}\n"
     ]
    }
   ],
   "source": [
    "# Use GridSearchCV to find the best classifier model and its hyperparameters.\n",
    "\n",
    "pipe = Pipeline([('scaler', StandardScaler()), ('classifier', LogisticRegression())])\n",
    "\n",
    "# FIXME how to know which list of hyperparameters to evaluate for each classification model??\n",
    "params = [\n",
    "    {\n",
    "        'classifier' : [LogisticRegression()],\n",
    "        'classifier__solver': [ 'lbfgs', 'liblinear', 'newton-cg', 'newton-cholesky', 'sag', 'saga' ]\n",
    "    },\n",
    "    {\n",
    "        'classifier' : [KNeighborsClassifier()],\n",
    "    },\n",
    "    {\n",
    "        'classifier' : [DecisionTreeClassifier()],\n",
    "    },    \n",
    "    {\n",
    "        'classifier' : [RandomForestClassifier()],\n",
    "        'classifier__criterion': ['gini', 'entropy', 'log_loss'],\n",
    "        'classifier__n_estimators': [50, 100, 500],\n",
    "    },\n",
    "    {\n",
    "        'classifier' : [GradientBoostingClassifier()],\n",
    "        'classifier__criterion': ['friedman_mse', 'squared_error'],\n",
    "    },\n",
    "    {\n",
    "        'classifier' : [MLPClassifier()]\n",
    "    },\n",
    "    {\n",
    "        'classifier' : [GaussianNB()]\n",
    "    },\n",
    "    {\n",
    "        'classifier' : [SVC()]\n",
    "    }        \n",
    "]\n",
    "\n",
    "grid_search = GridSearchCV(pipe, params, cv = 5, n_jobs= -1, error_score=\"raise\")\n",
    "grid_search.fit(X_train, Y_train)\n",
    "\n",
    "print(f\"===> Best score = {grid_search.best_score_} with params = {grid_search.best_params_}\")\n",
    "\n",
    "predicted_values = grid_search.predict(X_test)\n",
    "\n",
    "predictions = pd.DataFrame({'PassengerId': test_data.PassengerId, 'Survived': predicted_values})\n",
    "predictions.to_csv(WORKING_DIR + '/submission.csv', index=False)"
   ]
  }
 ],
 "metadata": {
  "kernelspec": {
   "display_name": "kaggle-python-notebook",
   "language": "python",
   "name": "python3"
  },
  "language_info": {
   "codemirror_mode": {
    "name": "ipython",
    "version": 3
   },
   "file_extension": ".py",
   "mimetype": "text/x-python",
   "name": "python",
   "nbconvert_exporter": "python",
   "pygments_lexer": "ipython3",
   "version": "3.12.7"
  }
 },
 "nbformat": 4,
 "nbformat_minor": 2
}
